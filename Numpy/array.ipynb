{
 "cells": [
  {
   "cell_type": "markdown",
   "id": "c19bd531",
   "metadata": {},
   "source": [
    "## NumPy ndarray Object"
   ]
  },
  {
   "cell_type": "code",
   "execution_count": 1,
   "id": "10a58325",
   "metadata": {},
   "outputs": [],
   "source": [
    "import numpy as np"
   ]
  },
  {
   "cell_type": "code",
   "execution_count": 2,
   "id": "e245ef91",
   "metadata": {},
   "outputs": [
    {
     "name": "stdout",
     "output_type": "stream",
     "text": [
      "[1 2 3 4]\n",
      "<class 'numpy.ndarray'>\n"
     ]
    }
   ],
   "source": [
    "arr = np.array([1,2,3,4])\n",
    "print(arr)\n",
    "print(type(arr))"
   ]
  },
  {
   "cell_type": "markdown",
   "id": "94cc5915",
   "metadata": {},
   "source": [
    "To create an ndarray, we can pass a list, tuple or any array-like object into the array() method, and it will be converted into an ndarray"
   ]
  },
  {
   "cell_type": "code",
   "execution_count": 6,
   "id": "78f27051",
   "metadata": {},
   "outputs": [
    {
     "name": "stdout",
     "output_type": "stream",
     "text": [
      "[1 2 3 4]\n",
      "<class 'numpy.ndarray'>\n"
     ]
    }
   ],
   "source": [
    "arr = np.array((1,2,3,4))\n",
    "print(arr)\n",
    "print(type(arr))"
   ]
  },
  {
   "cell_type": "markdown",
   "id": "bc044f8f",
   "metadata": {},
   "source": [
    "# Dimensions in Arrays\n",
    "A dimension in arrays is one level of array depth (nested arrays)."
   ]
  },
  {
   "cell_type": "code",
   "execution_count": 7,
   "id": "d145f835",
   "metadata": {},
   "outputs": [
    {
     "name": "stdout",
     "output_type": "stream",
     "text": [
      "28\n",
      "<class 'numpy.ndarray'>\n"
     ]
    }
   ],
   "source": [
    "# O-D array\n",
    "arr_0 = np.array(28)\n",
    "print(arr_0)\n",
    "print(type(arr_0))"
   ]
  },
  {
   "cell_type": "code",
   "execution_count": null,
   "id": "5d1bf53c",
   "metadata": {},
   "outputs": [],
   "source": [
    "# 1D array\n",
    "arr_1 = np.array([1,2,3,4])\n",
    "print(arr_1)\n",
    "print(type(arr_1))"
   ]
  }
 ],
 "metadata": {
  "kernelspec": {
   "display_name": "P101",
   "language": "python",
   "name": "python3"
  },
  "language_info": {
   "codemirror_mode": {
    "name": "ipython",
    "version": 3
   },
   "file_extension": ".py",
   "mimetype": "text/x-python",
   "name": "python",
   "nbconvert_exporter": "python",
   "pygments_lexer": "ipython3",
   "version": "3.8.20"
  }
 },
 "nbformat": 4,
 "nbformat_minor": 5
}
