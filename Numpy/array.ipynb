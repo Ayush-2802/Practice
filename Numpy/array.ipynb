{
 "cells": [
  {
   "cell_type": "markdown",
   "id": "c19bd531",
   "metadata": {},
   "source": [
    "## NumPy ndarray Object"
   ]
  },
  {
   "cell_type": "code",
   "execution_count": 1,
   "id": "10a58325",
   "metadata": {},
   "outputs": [],
   "source": [
    "import numpy as np"
   ]
  },
  {
   "cell_type": "code",
   "execution_count": 2,
   "id": "e245ef91",
   "metadata": {},
   "outputs": [
    {
     "name": "stdout",
     "output_type": "stream",
     "text": [
      "[1 2 3 4]\n",
      "<class 'numpy.ndarray'>\n"
     ]
    }
   ],
   "source": [
    "arr = np.array([1,2,3,4])\n",
    "print(arr)\n",
    "print(type(arr))"
   ]
  },
  {
   "cell_type": "markdown",
   "id": "94cc5915",
   "metadata": {},
   "source": [
    "To create an ndarray, we can pass a list, tuple or any array-like object into the array() method, and it will be converted into an ndarray"
   ]
  },
  {
   "cell_type": "code",
   "execution_count": 6,
   "id": "78f27051",
   "metadata": {},
   "outputs": [
    {
     "name": "stdout",
     "output_type": "stream",
     "text": [
      "[1 2 3 4]\n",
      "<class 'numpy.ndarray'>\n"
     ]
    }
   ],
   "source": [
    "arr = np.array((1,2,3,4))\n",
    "print(arr)\n",
    "print(type(arr))"
   ]
  },
  {
   "cell_type": "markdown",
   "id": "bc044f8f",
   "metadata": {},
   "source": [
    "# Dimensions in Arrays\n",
    "A dimension in arrays is one level of array depth (nested arrays)."
   ]
  },
  {
   "cell_type": "code",
   "execution_count": 7,
   "id": "d145f835",
   "metadata": {},
   "outputs": [
    {
     "name": "stdout",
     "output_type": "stream",
     "text": [
      "28\n",
      "<class 'numpy.ndarray'>\n"
     ]
    }
   ],
   "source": [
    "# O-D array\n",
    "arr_0 = np.array(28)\n",
    "print(arr_0)\n",
    "print(type(arr_0))"
   ]
  },
  {
   "cell_type": "code",
   "execution_count": 8,
   "id": "5d1bf53c",
   "metadata": {},
   "outputs": [
    {
     "name": "stdout",
     "output_type": "stream",
     "text": [
      "[1 2 3 4]\n",
      "<class 'numpy.ndarray'>\n"
     ]
    }
   ],
   "source": [
    "# 1D array\n",
    "arr_1 = np.array([1,2,3,4])\n",
    "print(arr_1)\n",
    "print(type(arr_1))"
   ]
  },
  {
   "cell_type": "code",
   "execution_count": 9,
   "id": "c6d6a65f",
   "metadata": {},
   "outputs": [
    {
     "name": "stdout",
     "output_type": "stream",
     "text": [
      "[[1 2 3 4]\n",
      " [5 6 7 8]]\n",
      "<class 'numpy.ndarray'>\n"
     ]
    }
   ],
   "source": [
    "# 2D array\n",
    "arr_2 = np.array([[1,2,3,4],[5,6,7,8]])\n",
    "print(arr_2)\n",
    "print(type(arr_2))"
   ]
  },
  {
   "cell_type": "code",
   "execution_count": 11,
   "id": "bba8f809",
   "metadata": {},
   "outputs": [
    {
     "name": "stdout",
     "output_type": "stream",
     "text": [
      "[[[1 2 3]\n",
      "  [4 5 6]]\n",
      "\n",
      " [[1 2 3]\n",
      "  [4 5 6]]]\n",
      "<class 'numpy.ndarray'>\n"
     ]
    }
   ],
   "source": [
    "#3D array\n",
    "arr_3 = np.array([[[1, 2, 3], [4, 5, 6]], [[1, 2, 3], [4, 5, 6]]])\n",
    "print(arr_3)\n",
    "print(type(arr_3))"
   ]
  },
  {
   "cell_type": "markdown",
   "id": "de084987",
   "metadata": {},
   "source": [
    "NumPy Arrays provides the ndim attribute that returns an integer that tells us how many dimensions the array have."
   ]
  },
  {
   "cell_type": "code",
   "execution_count": 17,
   "id": "d48d3d70",
   "metadata": {},
   "outputs": [
    {
     "name": "stdout",
     "output_type": "stream",
     "text": [
      "0 \n",
      " 1 \n",
      " 2 \n",
      " 3\n"
     ]
    }
   ],
   "source": [
    "# check dimentions\n",
    "\n",
    "a = np.array(28)\n",
    "b = np.array([1,2,3,4])\n",
    "c = np.array([[1,2,3,4],[5,6,7,8]])\n",
    "d = np.array([[[1, 2, 3], [4, 5, 6]], [[1, 2, 3], [4, 5, 6]]])\n",
    "\n",
    "print(a.ndim,\"\\n\" ,b.ndim ,\"\\n\",c.ndim, \"\\n\" ,d.ndim)"
   ]
  },
  {
   "cell_type": "markdown",
   "id": "c9cb06f4",
   "metadata": {},
   "source": [
    "# Higher Dimensional Arrays\n",
    "An array can have any number of dimensions.\n",
    "When the array is created, you can define the number of dimensions by using the ndmin argument.\n",
    "\n"
   ]
  },
  {
   "cell_type": "code",
   "execution_count": 18,
   "id": "dea9a715",
   "metadata": {},
   "outputs": [
    {
     "name": "stdout",
     "output_type": "stream",
     "text": [
      "[[[[[1 2 3 4]]]]]\n",
      "number of dimensions : 5\n"
     ]
    }
   ],
   "source": [
    "arr_dim = np.array([1, 2, 3, 4], ndmin=5)\n",
    "\n",
    "print(arr_dim)\n",
    "print('number of dimensions :', arr_dim.ndim)"
   ]
  },
  {
   "cell_type": "markdown",
   "id": "7065d42d",
   "metadata": {},
   "source": [
    "# Indexing\n"
   ]
  },
  {
   "cell_type": "code",
   "execution_count": 20,
   "id": "1733b770",
   "metadata": {},
   "outputs": [
    {
     "name": "stdout",
     "output_type": "stream",
     "text": [
      "2\n"
     ]
    }
   ],
   "source": [
    "# 1D array indexing\n",
    "print(b[1])"
   ]
  },
  {
   "cell_type": "code",
   "execution_count": 21,
   "id": "818074f9",
   "metadata": {},
   "outputs": [
    {
     "name": "stdout",
     "output_type": "stream",
     "text": [
      "7\n"
     ]
    }
   ],
   "source": [
    "# 2D array indexing\n",
    "print(c[1,2])"
   ]
  },
  {
   "cell_type": "code",
   "execution_count": 23,
   "id": "6bb8abbc",
   "metadata": {},
   "outputs": [
    {
     "name": "stdout",
     "output_type": "stream",
     "text": [
      "6\n"
     ]
    }
   ],
   "source": [
    "#3D array indexing\n",
    "print(d[0,1,2])"
   ]
  },
  {
   "cell_type": "code",
   "execution_count": 25,
   "id": "5e02d3c8",
   "metadata": {},
   "outputs": [
    {
     "name": "stdout",
     "output_type": "stream",
     "text": [
      "8\n"
     ]
    }
   ],
   "source": [
    "# Negative Indexing\n",
    "print(c[1,-1])"
   ]
  }
 ],
 "metadata": {
  "kernelspec": {
   "display_name": "P101",
   "language": "python",
   "name": "python3"
  },
  "language_info": {
   "codemirror_mode": {
    "name": "ipython",
    "version": 3
   },
   "file_extension": ".py",
   "mimetype": "text/x-python",
   "name": "python",
   "nbconvert_exporter": "python",
   "pygments_lexer": "ipython3",
   "version": "3.8.20"
  }
 },
 "nbformat": 4,
 "nbformat_minor": 5
}
