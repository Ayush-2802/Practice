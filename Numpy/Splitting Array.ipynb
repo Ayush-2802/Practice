{
 "cells": [
  {
   "cell_type": "markdown",
   "id": "666ee016",
   "metadata": {},
   "source": [
    "# Splitting NumPy Arrays\n",
    "Splitting is reverse operation of Joining."
   ]
  },
  {
   "cell_type": "code",
   "execution_count": 1,
   "id": "fbbd255f",
   "metadata": {},
   "outputs": [],
   "source": [
    "import numpy as np"
   ]
  },
  {
   "cell_type": "code",
   "execution_count": 8,
   "id": "d84b70e4",
   "metadata": {},
   "outputs": [
    {
     "name": "stdout",
     "output_type": "stream",
     "text": [
      "[array([1, 2]), array([3, 4]), array([5, 6])]\n"
     ]
    }
   ],
   "source": [
    "arr = np.array([1, 2, 3, 4, 5, 6])\n",
    "newarr = np.array_split(arr, 3)\n",
    "print(newarr)\n",
    "\n",
    "# Split the array in 3 parts"
   ]
  },
  {
   "cell_type": "code",
   "execution_count": null,
   "id": "4189652f",
   "metadata": {},
   "outputs": [],
   "source": []
  }
 ],
 "metadata": {
  "kernelspec": {
   "display_name": "P101",
   "language": "python",
   "name": "python3"
  },
  "language_info": {
   "codemirror_mode": {
    "name": "ipython",
    "version": 3
   },
   "file_extension": ".py",
   "mimetype": "text/x-python",
   "name": "python",
   "nbconvert_exporter": "python",
   "pygments_lexer": "ipython3",
   "version": "3.8.20"
  }
 },
 "nbformat": 4,
 "nbformat_minor": 5
}
