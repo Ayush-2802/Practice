{
 "cells": [
  {
   "cell_type": "markdown",
   "id": "9e37d44e",
   "metadata": {},
   "source": [
    "# NumPy Joining Array"
   ]
  },
  {
   "cell_type": "markdown",
   "id": "a6cf28b0",
   "metadata": {},
   "source": [
    "in NumPy we join arrays by axes"
   ]
  },
  {
   "cell_type": "code",
   "execution_count": 1,
   "id": "01b98124",
   "metadata": {},
   "outputs": [],
   "source": [
    "import numpy as np"
   ]
  },
  {
   "cell_type": "code",
   "execution_count": 5,
   "id": "f1565b39",
   "metadata": {},
   "outputs": [
    {
     "name": "stdout",
     "output_type": "stream",
     "text": [
      "[1 2 3 4 5 6 7 8]\n"
     ]
    }
   ],
   "source": [
    "a1 = np.array([1,2,3,4])\n",
    "a2 = np.array([5,6,7,8])\n",
    "\n",
    "con = np.concatenate((a1,a2))\n",
    "print(con)"
   ]
  },
  {
   "cell_type": "code",
   "execution_count": null,
   "id": "c832e36c",
   "metadata": {},
   "outputs": [],
   "source": [
    "a1 = np.array([[1,2,3,4],[5,6,7,8]])\n",
    "a2 = np.array([[8,7,6,5],[4,3,2,1]])\n",
    "\n",
    "con = np.concatenate((a1,a2),axis=1)\n"
   ]
  }
 ],
 "metadata": {
  "kernelspec": {
   "display_name": "P101",
   "language": "python",
   "name": "python3"
  },
  "language_info": {
   "codemirror_mode": {
    "name": "ipython",
    "version": 3
   },
   "file_extension": ".py",
   "mimetype": "text/x-python",
   "name": "python",
   "nbconvert_exporter": "python",
   "pygments_lexer": "ipython3",
   "version": "3.8.20"
  }
 },
 "nbformat": 4,
 "nbformat_minor": 5
}
