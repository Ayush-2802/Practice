{
 "cells": [
  {
   "cell_type": "markdown",
   "id": "14b2753f",
   "metadata": {},
   "source": [
    "# Pandas Series\n",
    "A Pandas Series is like a column in a table.\n",
    "It is a one-dimensional array holding data of any type."
   ]
  },
  {
   "cell_type": "code",
   "execution_count": 1,
   "id": "bd36cb31",
   "metadata": {},
   "outputs": [],
   "source": [
    "import pandas as pd"
   ]
  },
  {
   "cell_type": "code",
   "execution_count": 3,
   "id": "3832dedf",
   "metadata": {},
   "outputs": [
    {
     "name": "stdout",
     "output_type": "stream",
     "text": [
      "0    1\n",
      "1    2\n",
      "2    3\n",
      "dtype: int64\n"
     ]
    }
   ],
   "source": [
    "data = [1,2,3]\n",
    "var = pd.Series(data)\n",
    "print(var)"
   ]
  },
  {
   "cell_type": "markdown",
   "id": "9e1abbaa",
   "metadata": {},
   "source": [
    "# Labels\n",
    "If nothing else is specified, the values are labeled with their index number. First value has index 0, second value has index 1 etc.\n",
    "\n",
    "This label can be used to access a specified value.\n",
    "\n"
   ]
  },
  {
   "cell_type": "code",
   "execution_count": null,
   "id": "79b682d9",
   "metadata": {},
   "outputs": [
    {
     "name": "stdout",
     "output_type": "stream",
     "text": [
      "a    1\n",
      "b    2\n",
      "c    3\n",
      "dtype: int64\n",
      "3\n"
     ]
    }
   ],
   "source": [
    "var2  = pd.Series(data, index = [\"a\",\"b\",\"c\"])\n",
    "print(var2)\n",
    "\n",
    "# When you have created labels, you can access an item by referring to the label.\n",
    "print(var2[\"c\"])"
   ]
  },
  {
   "cell_type": "markdown",
   "id": "a7589c6b",
   "metadata": {},
   "source": [
    "we can also use a key/value object, like a dictionary, when creating a Series.\n",
    "\n"
   ]
  },
  {
   "cell_type": "code",
   "execution_count": 7,
   "id": "15e98793",
   "metadata": {},
   "outputs": [
    {
     "name": "stdout",
     "output_type": "stream",
     "text": [
      "day1    1\n",
      "day2    2\n",
      "day3    3\n",
      "dtype: int64\n"
     ]
    }
   ],
   "source": [
    "data = {\"day1\":1,\"day2\":2,\"day3\":3}\n",
    "\n",
    "var3 = pd.Series(data)\n",
    "print(var3)"
   ]
  },
  {
   "cell_type": "markdown",
   "id": "7e790d48",
   "metadata": {},
   "source": [
    "To select only some of the items in the dictionary, use the index argument and specify only the items you want to include in the Series."
   ]
  },
  {
   "cell_type": "code",
   "execution_count": 9,
   "id": "550cda62",
   "metadata": {},
   "outputs": [
    {
     "name": "stdout",
     "output_type": "stream",
     "text": [
      "day1    1\n",
      "day3    3\n",
      "dtype: int64\n"
     ]
    }
   ],
   "source": [
    "var4 = pd.Series(data,index=[\"day1\",\"day3\"])\n",
    "print(var4)"
   ]
  }
 ],
 "metadata": {
  "kernelspec": {
   "display_name": "P101",
   "language": "python",
   "name": "python3"
  },
  "language_info": {
   "codemirror_mode": {
    "name": "ipython",
    "version": 3
   },
   "file_extension": ".py",
   "mimetype": "text/x-python",
   "name": "python",
   "nbconvert_exporter": "python",
   "pygments_lexer": "ipython3",
   "version": "3.8.20"
  }
 },
 "nbformat": 4,
 "nbformat_minor": 5
}
